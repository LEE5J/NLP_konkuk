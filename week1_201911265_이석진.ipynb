{
  "nbformat": 4,
  "nbformat_minor": 0,
  "metadata": {
    "colab": {
      "provenance": [],
      "authorship_tag": "ABX9TyMrHwlFBZIVsD3N2F0pSdSR",
      "include_colab_link": true
    },
    "kernelspec": {
      "name": "python3",
      "display_name": "Python 3"
    },
    "language_info": {
      "name": "python"
    }
  },
  "cells": [
    {
      "cell_type": "markdown",
      "metadata": {
        "id": "view-in-github",
        "colab_type": "text"
      },
      "source": [
        "<a href=\"https://colab.research.google.com/github/LEE5J/NLP_konkuk/blob/main/week1_201911265_%EC%9D%B4%EC%84%9D%EC%A7%84.ipynb\" target=\"_parent\"><img src=\"https://colab.research.google.com/assets/colab-badge.svg\" alt=\"Open In Colab\"/></a>"
      ]
    },
    {
      "cell_type": "code",
      "execution_count": null,
      "metadata": {
        "colab": {
          "base_uri": "https://localhost:8080/"
        },
        "id": "JFMSgrBspg1H",
        "outputId": "3b1d321c-d5ff-4889-d522-53c91fb94877"
      },
      "outputs": [
        {
          "output_type": "stream",
          "name": "stdout",
          "text": [
            "Mounted at /content/gdrive\n"
          ]
        }
      ],
      "source": [
        "import numpy as np\n",
        "from google.colab import drive\n",
        "drive.mount('/content/gdrive')\n"
      ]
    },
    {
      "cell_type": "code",
      "source": [
        "f = open(\"/content/gdrive/MyDrive/NLP_konkuk/train_data_after_10000_sent.txt\",'rt',encoding=\"cp949\")"
      ],
      "metadata": {
        "id": "rSgtUx0tqWNx"
      },
      "execution_count": null,
      "outputs": []
    },
    {
      "cell_type": "code",
      "source": [
        "import os\n",
        "os.getcwd ()"
      ],
      "metadata": {
        "colab": {
          "base_uri": "https://localhost:8080/",
          "height": 35
        },
        "id": "huYFVbMOrdDP",
        "outputId": "fd55cf5d-9b64-4de0-c694-e5eaddbb62e9"
      },
      "execution_count": null,
      "outputs": [
        {
          "output_type": "execute_result",
          "data": {
            "text/plain": [
              "'/content'"
            ],
            "application/vnd.google.colaboratory.intrinsic+json": {
              "type": "string"
            }
          },
          "metadata": {},
          "execution_count": 3
        }
      ]
    },
    {
      "cell_type": "code",
      "source": [
        "morph_dict = dict()"
      ],
      "metadata": {
        "id": "_5TriDX6t3-E"
      },
      "execution_count": null,
      "outputs": []
    },
    {
      "cell_type": "code",
      "source": [
        "for i in range(56070):\n",
        "  sentence = f.readline()\n",
        "  word_morpheme=sentence.split(\"\\t\")\n",
        "  #print(word_morpheme)\n",
        "  try:\n",
        "    morpheme_list=word_morpheme[1].split(\"+\")\n",
        "  except:\n",
        "    continue\n",
        "  for morph in morpheme_list:\n",
        "    try:\n",
        "      morph_dict[morph] +=1\n",
        "    except:\n",
        "      morph_dict[morph] = 1\n",
        "  "
      ],
      "metadata": {
        "id": "SmyycJHprrfc"
      },
      "execution_count": null,
      "outputs": []
    },
    {
      "cell_type": "code",
      "source": [
        "morph_list = list(zip(morph_dict.values(),morph_dict.keys()))\n",
        "morph_rank = sorted(morph_list,reverse=True)\n",
        "for i in range(0,100):\n",
        "  print(morph_rank[i][1].strip(\"\\n\"),morph_rank[i][0],(1+i)*morph_rank[i][0])"
      ],
      "metadata": {
        "id": "df-5y5pjuwvS",
        "colab": {
          "base_uri": "https://localhost:8080/"
        },
        "outputId": "8f7b823d-30ef-4399-ea9f-552fdd7654b5"
      },
      "execution_count": null,
      "outputs": [
        {
          "output_type": "stream",
          "name": "stdout",
          "text": [
            "하/XSV 3913 3913\n",
            "의/JKG 3453 6906\n",
            "을/JKO 3141 9423\n",
            "./SF 2861 11444\n",
            "이/VCP 2529 12645\n",
            "ㄴ/ETM 2523 15138\n",
            ",/SP 2401 16807\n",
            "에/JKB 2381 19048\n",
            "이/JKS 2072 18648\n",
            "를/JKO 1924 19240\n",
            "는/JX 1741 19151\n",
            "다/EF 1546 18552\n",
            "은/JX 1456 18928\n",
            "는/ETM 1357 18998\n",
            "고/EC 1314 19710\n",
            "들/XSN 1303 20848\n",
            "도/JX 1298 22066\n",
            "가/JKS 1292 23256\n",
            "하/XSA 1267 24073\n",
            "었/EP 1061 21220\n",
            "았/EP 1033 21693\n",
            "되/XSV 969 21318\n",
            "과/JC 934 21482\n",
            "로/JKB 930 22320\n",
            "으로/JKB 916 22900\n",
            "에서/JKB 901 23426\n",
            "ㄹ/ETM 844 22788\n",
            "어/EC 733 20524\n",
            "(/SS 718 20822\n",
            "와/JC 594 17820\n",
            "어/EC 571 17701\n",
            "아/EC 541 17312\n",
            ")/SS 508 16764\n",
            "ㄴ다/EF 507 17238\n",
            "게/EC 506 17710\n",
            "에/JKB 459 16524\n",
            "적/XSN 453 16761\n",
            "기/ETN 449 17062\n",
            "아/EC 427 16653\n",
            "지/EC 417 16680\n",
            "기/ETN 393 16113\n",
            "던/ETM 350 14700\n",
            "./SP 340 14620\n",
            "고/EC 316 13904\n",
            "1/SN 312 14040\n",
            "지/VX 299 13754\n",
            "에서/JKB 298 14006\n",
            "·/SP 284 13632\n",
            "면/EC 271 13279\n",
            "까지/JX 271 13550\n",
            "2/SN 270 13770\n",
            "만/JX 262 13624\n",
            "3/SN 256 13568\n",
            "씨/NNB 251 13554\n",
            "원/NNB 245 13475\n",
            "며/EC 240 13440\n",
            "적/XSN 236 13452\n",
            "[/SS 231 13398\n",
            "5/SN 225 13275\n",
            "년/NNB 224 13440\n",
            "주/VX 220 13420\n",
            "∼/SO 215 13330\n",
            "만/NR 213 13419\n",
            "다는/ETM 213 13632\n",
            ")/SS 213 13845\n",
            "%/SW 213 14058\n",
            "ㅁ/ETN 210 14070\n",
            "라는/ETM 208 14144\n",
            "에게/JKB 207 14283\n",
            "화/XSN 202 14140\n",
            "은/ETM 196 13916\n",
            "4/SN 185 13320\n",
            "다/EC 184 13432\n",
            "이나/JC 183 13542\n",
            "시키/XSV 181 13575\n",
            "하/VV 176 13376\n",
            "과/JKB 176 13552\n",
            "]/SS 171 13338\n",
            "이/JKC 170 13430\n",
            "10/SN 170 13600\n",
            "면서/EC 163 13203\n",
            "부터/JX 162 13284\n",
            "지만/EC 161 13363\n",
            "아야/EC 161 13524\n",
            "자/NNG 153 13005\n",
            "월/NNB 152 13072\n",
            "성/XSN 149 12963\n",
            "을/ETM 148 13024\n",
            "다고/EC 147 13083\n",
            "어야/EC 146 13140\n",
            "6/SN 145 13195\n",
            "여/XSN 143 13156\n",
            "있/VV 142 13206\n",
            "명/NNB 142 13348\n",
            "년/NNB 141 13395\n",
            "하/VX 140 13440\n",
            "일/NNB 138 13386\n",
            "ㄴ/JX 137 13426\n",
            "오/VX 136 13464\n",
            "것/NNB 131 13100\n"
          ]
        }
      ]
    },
    {
      "cell_type": "code",
      "source": [
        "#morph_list= list(zip(morph_dict.values(),morph_dict.keys()))\n",
        "print(morph_rank[:10])"
      ],
      "metadata": {
        "colab": {
          "base_uri": "https://localhost:8080/"
        },
        "id": "rUZYvRelxlN1",
        "outputId": "93af0c7b-7a15-4e04-be09-bf17b98cf868"
      },
      "execution_count": null,
      "outputs": [
        {
          "output_type": "stream",
          "name": "stdout",
          "text": [
            "[(3913, '하/XSV'), (3453, '의/JKG\\n'), (3141, '을/JKO\\n'), (2861, './SF\\n'), (2529, '이/VCP'), (2523, 'ㄴ/ETM\\n'), (2401, ',/SP\\n'), (2381, '에/JKB\\n'), (2072, '이/JKS\\n'), (1924, '를/JKO\\n')]\n"
          ]
        }
      ]
    }
  ]
}